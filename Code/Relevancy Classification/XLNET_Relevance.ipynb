{
 "cells": [
  {
   "cell_type": "code",
   "execution_count": 1,
   "id": "d234256b-d90c-475b-a947-2bae143bcac4",
   "metadata": {},
   "outputs": [],
   "source": [
    "import torch\n",
    "import torch.nn as nn\n",
    "import torch.nn.functional as F\n",
    "from torch.utils.data import DataLoader, Dataset\n",
    "from transformers import XLNetModel, XLNetTokenizer  # Import XLNet components\n",
    "import numpy as np\n",
    "import pandas as pd\n",
    "from sklearn.metrics import accuracy_score, classification_report, confusion_matrix\n",
    "import matplotlib.pyplot as plt\n",
    "import seaborn as sns\n",
    "\n",
    "# Custom Attention Layer in PyTorch\n",
    "class CustomAttention(nn.Module):\n",
    "    def __init__(self, input_dim):\n",
    "        super(CustomAttention, self).__init__()\n",
    "        self.W = nn.Parameter(torch.randn(input_dim, 1))\n",
    "        self.b = nn.Parameter(torch.zeros(input_dim))\n",
    "\n",
    "    def forward(self, x):\n",
    "        e = F.relu(torch.matmul(x, self.W) + self.b)\n",
    "        a = torch.softmax(e, dim=1)\n",
    "        output = torch.sum(x * a, dim=1)\n",
    "        return output\n",
    "\n",
    "\n",
    "\n",
    "# Define the PyTorch Model (using XLNet)\n",
    "class MyModel(nn.Module):\n",
    "    def __init__(self):\n",
    "        super(MyModel, self).__init__()\n",
    "        self.xlnet = XLNetModel.from_pretrained('xlnet-base-cased')  # Using XLNet base model\n",
    "        self.cnn = nn.Conv1d(in_channels=768, out_channels=64, kernel_size=3, padding=1)\n",
    "        self.attention = CustomAttention(input_dim=768)\n",
    "        self.fc1 = nn.Linear(768 + 64, 256)\n",
    "        self.fc2 = nn.Linear(256, 1)\n",
    "\n",
    "    def forward(self, input_ids, attention_mask):\n",
    "        xlnet_output = self.xlnet(input_ids, attention_mask=attention_mask)[0]\n",
    "        cnn_output = self.cnn(xlnet_output.transpose(1, 2))\n",
    "        cnn_output = F.max_pool1d(cnn_output, kernel_size=cnn_output.shape[2]).squeeze(2)\n",
    "        attention_output = self.attention(xlnet_output)\n",
    "        combined = torch.cat((cnn_output, attention_output), 1)\n",
    "        x = F.relu(self.fc1(combined))\n",
    "        x = torch.sigmoid(self.fc2(x)).squeeze(1)\n",
    "        return x"
   ]
  },
  {
   "cell_type": "code",
   "execution_count": 2,
   "id": "4d0ea03a-1cbb-43b2-aa68-4146e52f1632",
   "metadata": {},
   "outputs": [],
   "source": [
    "# Data Preparation\n",
    "class TweetDataset(Dataset):\n",
    "    def __init__(self, tweets, labels, tokenizer, max_len):\n",
    "        self.tweets = tweets\n",
    "        self.labels = labels\n",
    "        self.tokenizer = tokenizer\n",
    "        self.max_len = max_len\n",
    "\n",
    "    def __len__(self):\n",
    "        return len(self.tweets)\n",
    "\n",
    "    def __getitem__(self, item):\n",
    "        tweet = str(self.tweets[item])\n",
    "        label = self.labels[item]\n",
    "        encoding = self.tokenizer.encode_plus(\n",
    "          tweet,\n",
    "          add_special_tokens=True,\n",
    "          max_length=self.max_len,\n",
    "          return_token_type_ids=False,\n",
    "          padding='max_length',\n",
    "          truncation=True,\n",
    "          return_attention_mask=True,\n",
    "          return_tensors='pt',\n",
    "        )\n",
    "        return {\n",
    "          'tweet_text': tweet,\n",
    "          'input_ids': encoding['input_ids'].flatten(),\n",
    "          'attention_mask': encoding['attention_mask'].flatten(),\n",
    "          'labels': torch.tensor(label, dtype=torch.float)\n",
    "        }\n",
    "\n",
    "# Function to preprocess text data\n",
    "def preprocess_text(text):\n",
    "    # Implement text cleaning here (e.g., removing URLs, non-alphanumeric characters, etc.)\n",
    "    return text\n",
    "\n",
    "# Load and preprocess data\n",
    "df_train = pd.read_csv(\"/Users/aaadfg/Downloads/my_code/ICWSM/Dataset/train_data2.csv\")\n",
    "df_test = pd.read_csv(\"/Users/aaadfg/Downloads/my_code/ICWSM/Dataset/test_data2.csv\")\n",
    "\n",
    "# Assuming preprocess_text function is defined\n",
    "df_train['tweet'] = df_train['no_stop_joined'].apply(preprocess_text)\n",
    "df_test['tweet'] = df_test['no_stop_joined'].apply(preprocess_text)\n",
    "\n",
    "# Encode labels as binary\n",
    "encoded_dict = {\"Relevant\": 0, \"Not Relevant\": 1}\n",
    "df_train['event'] = df_train['Relevance'].map(encoded_dict)\n",
    "df_test['event'] = df_test['Relevance'].map(encoded_dict)\n"
   ]
  },
  {
   "cell_type": "code",
   "execution_count": 3,
   "id": "36c19d26-9ee6-408c-b37d-c04fa2515db3",
   "metadata": {},
   "outputs": [
    {
     "data": {
      "application/vnd.jupyter.widget-view+json": {
       "model_id": "59224283be624b379a525ce0f493d35d",
       "version_major": 2,
       "version_minor": 0
      },
      "text/plain": [
       "Downloading spiece.model:   0%|          | 0.00/798k [00:00<?, ?B/s]"
      ]
     },
     "metadata": {},
     "output_type": "display_data"
    },
    {
     "name": "stderr",
     "output_type": "stream",
     "text": [
      "C:\\Users\\aaadfg\\AppData\\Local\\anaconda2\\Lib\\site-packages\\huggingface_hub\\file_download.py:137: UserWarning: `huggingface_hub` cache-system uses symlinks by default to efficiently store duplicated files but your machine does not support them in C:\\Users\\aaadfg\\.cache\\huggingface\\hub. Caching files will still work but in a degraded version that might require more space on your disk. This warning can be disabled by setting the `HF_HUB_DISABLE_SYMLINKS_WARNING` environment variable. For more details, see https://huggingface.co/docs/huggingface_hub/how-to-cache#limitations.\n",
      "To support symlinks on Windows, you either need to activate Developer Mode or to run Python as an administrator. In order to see activate developer mode, see this article: https://docs.microsoft.com/en-us/windows/apps/get-started/enable-your-device-for-development\n",
      "  warnings.warn(message)\n"
     ]
    },
    {
     "data": {
      "application/vnd.jupyter.widget-view+json": {
       "model_id": "c973d759601249199f81ec2be1be501d",
       "version_major": 2,
       "version_minor": 0
      },
      "text/plain": [
       "Downloading config.json:   0%|          | 0.00/760 [00:00<?, ?B/s]"
      ]
     },
     "metadata": {},
     "output_type": "display_data"
    },
    {
     "name": "stdout",
     "output_type": "stream",
     "text": [
      "Using device: cuda\n"
     ]
    },
    {
     "data": {
      "application/vnd.jupyter.widget-view+json": {
       "model_id": "da7912ba3eba481682a02fff60b7d6cc",
       "version_major": 2,
       "version_minor": 0
      },
      "text/plain": [
       "Downloading pytorch_model.bin:   0%|          | 0.00/467M [00:00<?, ?B/s]"
      ]
     },
     "metadata": {},
     "output_type": "display_data"
    }
   ],
   "source": [
    "# Create datasets\n",
    "tokenizer = XLNetTokenizer.from_pretrained('xlnet-base-cased')  # Use XLNet tokenizer\n",
    "train_dataset = TweetDataset(\n",
    "    tweets=df_train.tweet.to_numpy(),\n",
    "    labels=df_train.event.to_numpy(),\n",
    "    tokenizer=tokenizer,\n",
    "    max_len=100\n",
    ")\n",
    "test_dataset = TweetDataset(\n",
    "    tweets=df_test.tweet.to_numpy(),\n",
    "    labels=df_test.event.to_numpy(),\n",
    "    tokenizer=tokenizer,\n",
    "    max_len=100\n",
    ")\n",
    "\n",
    "# DataLoader\n",
    "train_loader = DataLoader(train_dataset, batch_size=32, shuffle=True)\n",
    "test_loader = DataLoader(test_dataset, batch_size=32)\n",
    "\n",
    "# Set device to GPU if available\n",
    "device = torch.device(\"cuda\" if torch.cuda.is_available() else \"cpu\")\n",
    "print(\"Using device:\", device)\n",
    "\n",
    "# Model Initialization and transfer to device\n",
    "model = MyModel().to(device)\n",
    "\n",
    "# Optimizer and Loss Function\n",
    "optimizer = torch.optim.Adam(model.parameters(), lr=2e-5)\n",
    "loss_fn = nn.BCELoss()\n",
    "\n"
   ]
  },
  {
   "cell_type": "code",
   "execution_count": 4,
   "id": "8c343d78-516e-4b67-a586-523e0784ab11",
   "metadata": {},
   "outputs": [
    {
     "name": "stdout",
     "output_type": "stream",
     "text": [
      "Epoch 1/10 - Loss: 0.3494, Accuracy: 0.8440\n",
      "Epoch 2/10 - Loss: 0.2354, Accuracy: 0.8997\n",
      "Epoch 3/10 - Loss: 0.1879, Accuracy: 0.9198\n",
      "Epoch 4/10 - Loss: 0.1428, Accuracy: 0.9422\n",
      "Epoch 5/10 - Loss: 0.1025, Accuracy: 0.9601\n",
      "Epoch 6/10 - Loss: 0.0780, Accuracy: 0.9705\n",
      "Epoch 7/10 - Loss: 0.0618, Accuracy: 0.9773\n",
      "Epoch 8/10 - Loss: 0.0537, Accuracy: 0.9793\n",
      "Epoch 9/10 - Loss: 0.0437, Accuracy: 0.9838\n",
      "Epoch 10/10 - Loss: 0.0395, Accuracy: 0.9853\n"
     ]
    }
   ],
   "source": [
    "# pip install sentencepiece\n",
    "\n",
    "\n",
    "# Training Loop with data and model on GPU\n",
    "from sklearn.metrics import accuracy_score\n",
    "\n",
    "num_epochs = 10\n",
    "for epoch in range(num_epochs):\n",
    "    model.train()\n",
    "    total_loss = 0\n",
    "    correct_predictions = 0\n",
    "    total_predictions = 0\n",
    "\n",
    "    for batch in train_loader:\n",
    "        input_ids = batch['input_ids'].to(device)\n",
    "        attention_mask = batch['attention_mask'].to(device)\n",
    "        labels = batch['labels'].to(device)\n",
    "\n",
    "        # Forward pass\n",
    "        outputs = model(input_ids, attention_mask)\n",
    "        loss = loss_fn(outputs, labels)\n",
    "\n",
    "        # Backward pass and optimization\n",
    "        optimizer.zero_grad()\n",
    "        loss.backward()\n",
    "        optimizer.step()\n",
    "\n",
    "        # Aggregate loss\n",
    "        total_loss += loss.item()\n",
    "\n",
    "        # Calculate accuracy\n",
    "        predictions = (outputs > 0.5).float()  # Convert to binary predictions\n",
    "        correct_predictions += (predictions == labels).sum().item()\n",
    "        total_predictions += labels.size(0)\n",
    "\n",
    "    # Calculate average loss and accuracy over the epoch\n",
    "    avg_loss = total_loss / len(train_loader)\n",
    "    avg_accuracy = correct_predictions / total_predictions\n",
    "\n",
    "    print(f\"Epoch {epoch+1}/{num_epochs} - Loss: {avg_loss:.4f}, Accuracy: {avg_accuracy:.4f}\")"
   ]
  },
  {
   "cell_type": "code",
   "execution_count": 11,
   "id": "a8e0ce3d-1320-41c0-a5d5-1096d3a38071",
   "metadata": {},
   "outputs": [],
   "source": [
    "# # Evaluation\n",
    "# model.eval()\n",
    "# predictions, true_labels = [], []\n",
    "# with torch.no_grad():\n",
    "#     for batch in test_loader:\n",
    "#         input_ids = batch['input_ids'].to(device)\n",
    "#         attention_mask = batch['attention_mask'].to(device)\n",
    "#         labels = batch['labels'].to(device)\n",
    "\n",
    "#         outputs = model(input_ids, attention_mask)\n",
    "#         predictions.extend(outputs.cpu().tolist())\n",
    "#         true_labels.extend(labels.cpu().tolist())\n",
    "\n",
    "# # Convert predictions to binary\n",
    "# binary_predictions = [1 if p > 0.5 else 0 for p in predictions]\n",
    "\n"
   ]
  },
  {
   "cell_type": "code",
   "execution_count": 12,
   "id": "9e1b2ac7-3248-461d-87b1-7fdb27c6822c",
   "metadata": {},
   "outputs": [],
   "source": [
    "# # Classification report and confusion matrix\n",
    "# print(classification_report(true_labels, binary_predictions))\n",
    "# cm = confusion_matrix(true_labels, binary_predictions)\n",
    "\n"
   ]
  },
  {
   "cell_type": "code",
   "execution_count": 13,
   "id": "097dcaff-e1e4-4342-97d0-a8c88fc3ef43",
   "metadata": {},
   "outputs": [],
   "source": [
    "# # Plot confusion matrix\n",
    "# plt.figure(figsize=(8, 6))\n",
    "# sns.heatmap(cm, annot=True, fmt='d', cmap='Blues')\n",
    "# plt.title('Confusion Matrix')\n",
    "# plt.ylabel('Actual Label')\n",
    "# plt.xlabel('Predicted Label')\n",
    "# plt.xticks([0.5, 1.5], ['Not Relevant', 'Relevant'], va='center')\n",
    "# plt.yticks([0.5, 1.5], ['Not Relevant', 'Relevant'], va='center')\n",
    "# plt.show()"
   ]
  },
  {
   "cell_type": "code",
   "execution_count": null,
   "id": "8e8adb16-ab76-4a8e-8597-2ee70d7b9109",
   "metadata": {},
   "outputs": [],
   "source": []
  },
  {
   "cell_type": "code",
   "execution_count": 5,
   "id": "6cd2bee3-da22-4f7c-af9f-ec09830d023b",
   "metadata": {},
   "outputs": [],
   "source": [
    "import matplotlib.pyplot as plt\n",
    "import seaborn as sns\n",
    "from sklearn.metrics import classification_report, confusion_matrix, roc_auc_score\n",
    "import torch\n",
    "\n",
    "# Ensure the model is in evaluation mode\n",
    "model.eval()\n",
    "\n",
    "predictions, true_labels = [], []\n",
    "with torch.no_grad():\n",
    "    for batch in test_loader:\n",
    "        input_ids = batch['input_ids'].to(device)\n",
    "        attention_mask = batch['attention_mask'].to(device)\n",
    "        labels = batch['labels'].to(device)\n",
    "\n",
    "        outputs = model(input_ids, attention_mask)\n",
    "        predictions.extend(outputs.cpu().tolist())\n",
    "        true_labels.extend(labels.cpu().tolist())\n",
    "\n",
    "# Convert predictions to binary\n",
    "binary_predictions = [1 if p > 0.5 else 0 for p in predictions]\n",
    "\n",
    "\n",
    "\n",
    "\n"
   ]
  },
  {
   "cell_type": "code",
   "execution_count": 6,
   "id": "9e598611-65cc-4909-9035-a1f7be26a08c",
   "metadata": {},
   "outputs": [
    {
     "name": "stdout",
     "output_type": "stream",
     "text": [
      "AUC-ROC: 0.9449098916675104\n",
      "              precision    recall  f1-score   support\n",
      "\n",
      "         0.0       0.92      0.94      0.93      3808\n",
      "         1.0       0.84      0.79      0.81      1411\n",
      "\n",
      "    accuracy                           0.90      5219\n",
      "   macro avg       0.88      0.86      0.87      5219\n",
      "weighted avg       0.90      0.90      0.90      5219\n",
      "\n",
      "AUC-ROC: 0.9449098916675104\n"
     ]
    }
   ],
   "source": [
    "# Assuming predictions are single probability values for the positive class\n",
    "auc_roc = roc_auc_score(true_labels, predictions)\n",
    "print(f'AUC-ROC: {auc_roc}')\n",
    "\n",
    "# Classification report and confusion matrix\n",
    "print(classification_report(true_labels, binary_predictions))\n",
    "print(f'AUC-ROC: {auc_roc}')"
   ]
  },
  {
   "cell_type": "code",
   "execution_count": 9,
   "id": "43961e6d-a40f-4067-bfeb-51baf196c6b8",
   "metadata": {},
   "outputs": [
    {
     "data": {
      "image/png": "[encoded data removed]",
      "text/plain": [
       "<Figure size 800x600 with 2 Axes>"
      ]
     },
     "metadata": {},
     "output_type": "display_data"
    }
   ],
   "source": [
    "# Plot confusion matrix\n",
    "cm = confusion_matrix(true_labels, binary_predictions)\n",
    "plt.figure(figsize=(8, 6))\n",
    "sns.heatmap(cm, annot=True, fmt='d', cmap='Blues')\n",
    "plt.title('Confusion Matrix')\n",
    "plt.ylabel('Actual Label')\n",
    "plt.xlabel('Predicted Label')\n",
    "plt.xticks([0.5, 1.5], ['Not Relevant', 'Relevant'])\n",
    "plt.yticks([0.5, 1.5], ['Not Relevant', 'Relevant'], va='center')\n",
    "plt.show()"
   ]
  },
  {
   "cell_type": "code",
   "execution_count": null,
   "id": "586ed3dc-4943-4bca-8a22-c4652a7c8e68",
   "metadata": {},
   "outputs": [],
   "source": []
  },
  {
   "cell_type": "code",
   "execution_count": null,
   "id": "750c6eeb-54d2-4bad-881c-cc12b0ee589f",
   "metadata": {},
   "outputs": [],
   "source": []
  }
 ],
 "metadata": {
  "kernelspec": {
   "display_name": "Python 3 (ipykernel)",
   "language": "python",
   "name": "python3"
  },
  "language_info": {
   "codemirror_mode": {
    "name": "ipython",
    "version": 3
   },
   "file_extension": ".py",
   "mimetype": "text/x-python",
   "name": "python",
   "nbconvert_exporter": "python",
   "pygments_lexer": "ipython3",
   "version": "3.11.5"
  }
 },
 "nbformat": 4,
 "nbformat_minor": 5
}
